{
 "cells": [
  {
   "cell_type": "code",
   "execution_count": 8,
   "metadata": {},
   "outputs": [],
   "source": [
    "import datetime\n",
    "import hashlib"
   ]
  },
  {
   "cell_type": "code",
   "execution_count": 2,
   "metadata": {},
   "outputs": [
    {
     "data": {
      "text/plain": [
       "datetime.datetime(2021, 3, 22, 19, 38, 58, 48598)"
      ]
     },
     "execution_count": 2,
     "metadata": {},
     "output_type": "execute_result"
    }
   ],
   "source": [
    "datetime.datetime.now()"
   ]
  },
  {
   "cell_type": "code",
   "execution_count": 145,
   "metadata": {},
   "outputs": [],
   "source": [
    "class Block:\n",
    "    \n",
    "    validation = \"face666\"\n",
    "    difficulty = len(validation)\n",
    "    \n",
    "    proof_of_work = 0\n",
    "    \n",
    "    def __init__(self,id,data,prev):\n",
    "        self.timestamp = datetime.datetime.now()\n",
    "        self.id = id\n",
    "        self.data = data\n",
    "        self.prev = prev\n",
    "        self.isValidated = self.validation in Block.get_hash(self)\n",
    "        \n",
    "        \n",
    "        \n",
    "    @staticmethod\n",
    "    def get_hash(block):\n",
    "        return hashlib.sha256((str(block.prev)+str(block.id)+str(block.proof_of_work)+str(block.timestamp)+str(block.data)).encode()).hexdigest()\n",
    "    \n",
    "    \n",
    "    def to_dict(self):\n",
    "        return {\n",
    "            \"id\" : self.id,\n",
    "            \"timestamp\" : self.timestamp,\n",
    "            \"data\" : self.data,\n",
    "            \"validation\" : self.isValidated,\n",
    "            \"hash\" : self.get_hash(self),\n",
    "            \"previous_block\" : self.prev\n",
    "        }\n",
    "    \n",
    "    \n",
    "    #Block.get_hash(self)[:self.validation_test[\"difficulty\"]] != self.validation_test[\"validation\"]\n",
    "    def mine(self):\n",
    "        start = datetime.datetime.now()\n",
    "        print(\"Difficulty:{}\\n\".format(self.difficulty))\n",
    "        while self.validation not in Block.get_hash(self):\n",
    "            self.proof_of_work += 1 \n",
    "            b.proof_of_work = self.proof_of_work\n",
    "        \n",
    "        self.isValidated = self.validation in Block.get_hash(self)\n",
    "        print(\"Block validated!\\nProof of work:{}\\nHash:{}\\nTime:{}\".format(self.proof_of_work,Block.get_hash(self),(datetime.datetime.now() - start)))\n",
    "               "
   ]
  },
  {
   "cell_type": "code",
   "execution_count": 146,
   "metadata": {},
   "outputs": [],
   "source": [
    "b = Block(0,\"hallo\",prev=\"323819bfc5b5a33daf7ee5953aa7786141af328285712face666cedbec2620b5\")"
   ]
  }
 ],
 "metadata": {
  "kernelspec": {
   "display_name": "Python 3",
   "language": "python",
   "name": "python3"
  },
  "language_info": {
   "codemirror_mode": {
    "name": "ipython",
    "version": 3
   },
   "file_extension": ".py",
   "mimetype": "text/x-python",
   "name": "python",
   "nbconvert_exporter": "python",
   "pygments_lexer": "ipython3",
   "version": "3.8.5"
  }
 },
 "nbformat": 4,
 "nbformat_minor": 4
}
